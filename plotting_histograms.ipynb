{
 "cells": [
  {
   "cell_type": "code",
   "execution_count": 1,
   "id": "1340cdea",
   "metadata": {},
   "outputs": [],
   "source": [
    "import requests\n",
    "import pandas as pd\n",
    "import numpy as np\n",
    "import matplotlib.pyplot as plt\n",
    "from tqdm import tqdm\n",
    "plt.style.use('dark_background')"
   ]
  },
  {
   "cell_type": "code",
   "execution_count": 51,
   "id": "475fef8d",
   "metadata": {},
   "outputs": [],
   "source": [
    "def get_data(steam_id,name):\n",
    "    response = requests.get(f'https://royale.pet/api/player/{str(steam_id)}/stats')\n",
    "    if response.status_code == 404:\n",
    "        print('Error 404!')\n",
    "        df = pd.DataFrame()\n",
    "    else:\n",
    "        # get data\n",
    "        keys=[]\n",
    "        groups=[]\n",
    "        values=[]\n",
    "        for key in response.json()['stats'].keys():\n",
    "            keys.append(key)\n",
    "            groups.append(response.json()['stats'][key]['group'])\n",
    "            values.append(response.json()['stats'][key]['value'])\n",
    "        # translate to pandas format\n",
    "        dd = {'keys':keys,'groups':groups,'values':values,'name':name}\n",
    "        # build df\n",
    "        df = pd.DataFrame(dd)\n",
    "        df = df.sort_values(by='groups')\n",
    "        response.close()\n",
    "\n",
    "    return df\n",
    "\n",
    "def load_data():\n",
    "    id_list = load_ids()\n",
    "\n",
    "    dfs = []\n",
    "\n",
    "    for i in tqdm(id_list):\n",
    "        dfs.append(get_data(i,str(i)))\n",
    "\n",
    "    merged = pd.concat(dfs)\n",
    "    \n",
    "    return merged\n",
    "    \n",
    "    \n",
    "def load_ids():\n",
    "    ids = []\n",
    "    with open('ids.txt','r') as f:\n",
    "        for l in f:\n",
    "            ids.append(int(l[:-1]))\n",
    "    return ids\n",
    "\n",
    "def get_our_current_maxes(aa,oo):\n",
    "    m=[]\n",
    "    for ss in oo:\n",
    "        m.append(np.round(np.max(aa.loc[aa['keys']==ss]['values']),10))\n",
    "\n",
    "    # check for nans\n",
    "    for i,j in enumerate(m):\n",
    "        if np.isnan(j):\n",
    "            m[i] = -999999\n",
    "        \n",
    "    return m\n",
    "    \n",
    "    \n",
    "def get_our_current_stats():\n",
    "    df_gre = get_data(steam_id=76561199037603294,name='green')\n",
    "    df_red = get_data(steam_id=76561198869827899,name='red')\n",
    "    df_pin = get_data(steam_id=76561199037577176,name='pink')\n",
    "    dfs = [df_gre, df_red, df_pin]\n",
    "    aa = pd.concat(dfs)\n",
    "    \n",
    "    return aa\n",
    "\n",
    "def plot_histograms(df):\n",
    "    fig, axes = plt.subplots(nrows=11,ncols=11,figsize=(40,35))\n",
    "\n",
    "    k = df['keys'].unique()\n",
    "    # load in our data\n",
    "    our_stats = get_our_current_stats()\n",
    "    c = 0\n",
    "    maxes=get_our_current_maxes(our_stats,k)\n",
    "    for i in range(11):\n",
    "        for j in range(11):\n",
    "            rr = (df.loc[df['keys'] == k[c]]['values'].min(),2*maxes[c])\n",
    "            if rr[1] < rr[0]:\n",
    "                rr = (df.loc[df['keys'] == k[c]]['values'].min(),df.loc[df['keys'] == k[c]]['values'].max())\n",
    "            if rr[1] == 2*-9999999:\n",
    "                rr = (df.loc[df['keys'] == k[c]]['values'].min(),df.loc[df['keys'] == k[c]]['values'].max())\n",
    "            axes[i,j].hist(df.loc[df['keys'] == k[c]]['values'], bins=10, \n",
    "                           range=rr,\n",
    "                           color=plt.get_cmap('gist_rainbow')(c/121),\n",
    "                           edgecolor='w',alpha=0.66)\n",
    "            for name,c_name in zip(['green','red','pink'],['lime','red','magenta']):\n",
    "                xval = our_stats.loc[((our_stats['keys'] == k[c]) & (our_stats['name'] == name))]['values']\n",
    "                if xval.empty:\n",
    "                    pass\n",
    "                else:\n",
    "                    xval = float(xval)\n",
    "                    axes[i,j].axvline(x=xval, color=c_name,lw=3)\n",
    "            axes[i,j].set_title(k[c])\n",
    "            axes[i,j].grid(False)\n",
    "            c+=1\n",
    "    plt.tight_layout()\n",
    "    count = len(df['name'].unique())\n",
    "    fig.suptitle(f'$n_{{accounts}}={count}$',fontsize=24,y=1.015)\n",
    "    plt.savefig('figures/figure.png',dpi=300,)\n"
   ]
  },
  {
   "cell_type": "code",
   "execution_count": 49,
   "id": "90fa205c",
   "metadata": {},
   "outputs": [
    {
     "name": "stderr",
     "output_type": "stream",
     "text": [
      "100%|█████████████████████████████████████████| 357/357 [06:47<00:00,  1.14s/it]\n"
     ]
    }
   ],
   "source": [
    "merged = load_data()"
   ]
  },
  {
   "cell_type": "code",
   "execution_count": null,
   "id": "ccf71a9d",
   "metadata": {
    "scrolled": false
   },
   "outputs": [],
   "source": [
    "plot_histograms(merged)"
   ]
  },
  {
   "cell_type": "code",
   "execution_count": null,
   "id": "939ed23b",
   "metadata": {},
   "outputs": [],
   "source": []
  },
  {
   "cell_type": "code",
   "execution_count": null,
   "id": "9008312b",
   "metadata": {},
   "outputs": [],
   "source": []
  }
 ],
 "metadata": {
  "kernelspec": {
   "display_name": "Python 3 (ipykernel)",
   "language": "python",
   "name": "python3"
  },
  "language_info": {
   "codemirror_mode": {
    "name": "ipython",
    "version": 3
   },
   "file_extension": ".py",
   "mimetype": "text/x-python",
   "name": "python",
   "nbconvert_exporter": "python",
   "pygments_lexer": "ipython3",
   "version": "3.7.12"
  }
 },
 "nbformat": 4,
 "nbformat_minor": 5
}
