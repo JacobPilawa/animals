{
 "cells": [
  {
   "cell_type": "code",
   "execution_count": 1,
   "id": "526ef44b",
   "metadata": {},
   "outputs": [],
   "source": [
    "import requests\n",
    "import time\n",
    "import numpy\n",
    "from datetime import datetime"
   ]
  },
  {
   "cell_type": "code",
   "execution_count": 2,
   "id": "61b8be16",
   "metadata": {},
   "outputs": [],
   "source": [
    "def read_current_ids():\n",
    "    current_ids = numpy.genfromtxt('ids.txt')\n",
    "    \n",
    "    return current_ids"
   ]
  },
  {
   "cell_type": "code",
   "execution_count": 3,
   "id": "d1a7b843",
   "metadata": {},
   "outputs": [],
   "source": [
    "def write_ids():\n",
    "    \n",
    "    current_ids = read_current_ids()\n",
    "    \n",
    "    # request site\n",
    "    r = requests.get('https://royale.pet')\n",
    "    # get text\n",
    "    text = r.text\n",
    "    \n",
    "    # split text, taking 1 to end since we split on /player/\n",
    "    splits = text.split('/player/')[1:]\n",
    "    \n",
    "    # store array \n",
    "    ids = []\n",
    "    for s in splits:\n",
    "        ids.append(int(s.split('/')[0]))\n",
    "        \n",
    "    # remove duplicates from request\n",
    "    ids_clean = list(set(ids))\n",
    "    \n",
    "    # check if ids_clean[i] is already in list\n",
    "    ids_clean = [i for i in ids_clean if i not in current_ids]\n",
    "    \n",
    "    # print if new id's were found\n",
    "    if ids_clean:\n",
    "        print(f'{datetime.now().strftime(\"%H:%M:%S\")}: {len(ids_clean)} new IDs scraped!')\n",
    "        \n",
    "    # write to file\n",
    "    with open('ids.txt','a') as f:\n",
    "        for i in ids_clean:\n",
    "            f.write(str(i))\n",
    "            f.write('\\n')\n",
    "            \n",
    "    f.close()"
   ]
  },
  {
   "cell_type": "code",
   "execution_count": 4,
   "id": "1c0f7021",
   "metadata": {},
   "outputs": [
    {
     "name": "stdout",
     "output_type": "stream",
     "text": [
      "22:40:49: 1 new IDs scraped!\n"
     ]
    },
    {
     "ename": "KeyboardInterrupt",
     "evalue": "",
     "output_type": "error",
     "traceback": [
      "\u001b[0;31m---------------------------------------------------------------------------\u001b[0m",
      "\u001b[0;31mKeyboardInterrupt\u001b[0m                         Traceback (most recent call last)",
      "\u001b[0;32m/var/folders/8b/kdzzptnn501_n9y8q82g0c1w0000gn/T/ipykernel_19242/11365427.py\u001b[0m in \u001b[0;36m<module>\u001b[0;34m\u001b[0m\n\u001b[1;32m      4\u001b[0m     \u001b[0;32mif\u001b[0m \u001b[0mn\u001b[0m\u001b[0;34m%\u001b[0m\u001b[0;36m100\u001b[0m\u001b[0;34m==\u001b[0m\u001b[0;36m0\u001b[0m\u001b[0;34m:\u001b[0m \u001b[0mprint\u001b[0m\u001b[0;34m(\u001b[0m\u001b[0mn\u001b[0m\u001b[0;34m)\u001b[0m\u001b[0;34m\u001b[0m\u001b[0;34m\u001b[0m\u001b[0m\n\u001b[1;32m      5\u001b[0m     \u001b[0mwrite_ids\u001b[0m\u001b[0;34m(\u001b[0m\u001b[0;34m)\u001b[0m\u001b[0;34m\u001b[0m\u001b[0;34m\u001b[0m\u001b[0m\n\u001b[0;32m----> 6\u001b[0;31m     \u001b[0mtime\u001b[0m\u001b[0;34m.\u001b[0m\u001b[0msleep\u001b[0m\u001b[0;34m(\u001b[0m\u001b[0;36m10\u001b[0m\u001b[0;34m)\u001b[0m\u001b[0;34m\u001b[0m\u001b[0;34m\u001b[0m\u001b[0m\n\u001b[0m",
      "\u001b[0;31mKeyboardInterrupt\u001b[0m: "
     ]
    }
   ],
   "source": [
    "n = 0\n",
    "while n < 1000:\n",
    "    n+=1\n",
    "    if n%100==0: print(n)\n",
    "    write_ids()\n",
    "    time.sleep(10)"
   ]
  },
  {
   "cell_type": "code",
   "execution_count": null,
   "id": "239649d3",
   "metadata": {},
   "outputs": [],
   "source": []
  },
  {
   "cell_type": "code",
   "execution_count": null,
   "id": "36f80b00",
   "metadata": {},
   "outputs": [],
   "source": []
  }
 ],
 "metadata": {
  "kernelspec": {
   "display_name": "Python 3 (ipykernel)",
   "language": "python",
   "name": "python3"
  },
  "language_info": {
   "codemirror_mode": {
    "name": "ipython",
    "version": 3
   },
   "file_extension": ".py",
   "mimetype": "text/x-python",
   "name": "python",
   "nbconvert_exporter": "python",
   "pygments_lexer": "ipython3",
   "version": "3.7.12"
  }
 },
 "nbformat": 4,
 "nbformat_minor": 5
}
